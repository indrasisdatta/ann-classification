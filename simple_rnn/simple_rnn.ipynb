{
 "cells": [
  {
   "cell_type": "code",
   "execution_count": 1,
   "id": "b9c8d318",
   "metadata": {},
   "outputs": [
    {
     "name": "stdout",
     "output_type": "stream",
     "text": [
      "WARNING:tensorflow:From d:\\Code\\Python\\ann-classification\\venv\\Lib\\site-packages\\keras\\src\\losses.py:2976: The name tf.losses.sparse_softmax_cross_entropy is deprecated. Please use tf.compat.v1.losses.sparse_softmax_cross_entropy instead.\n",
      "\n"
     ]
    }
   ],
   "source": [
    "import numpy as np \n",
    "import tensorflow as tf \n",
    "from tensorflow.keras.datasets import imdb \n",
    "from tensorflow.keras.preprocessing import sequence \n",
    "from tensorflow.keras.models import Sequential\n",
    "from tensorflow.keras.layers import Embedding, SimpleRNN, Dense"
   ]
  },
  {
   "cell_type": "code",
   "execution_count": null,
   "id": "b6f29199",
   "metadata": {},
   "outputs": [
    {
     "data": {
      "text/plain": [
       "(25000,)"
      ]
     },
     "execution_count": 4,
     "metadata": {},
     "output_type": "execute_result"
    }
   ],
   "source": [
    "# Load the imdb datasets \n",
    "max_features = 10000 # Vocabulary size \n",
    "(X_train, y_train), (X_test, y_test) = imdb.load_data(num_words=max_features)\n",
    "X_train.shape\n",
    "y_train.shape\n",
    "X_test.shape\n",
    "y_test.shape"
   ]
  },
  {
   "cell_type": "code",
   "execution_count": null,
   "id": "f013fc01",
   "metadata": {},
   "outputs": [
    {
     "data": {
      "text/plain": [
       "\"? this film was just brilliant casting ? ? story direction ? really ? the part they played and you could just imagine being there robert ? is an amazing actor and now the same being director ? father came from the same ? ? as myself so i loved the fact there was a real ? with this film the ? ? throughout the film were great it was just brilliant so much that i ? the film as soon as it was released for ? and would recommend it to everyone to watch and the ? ? was amazing really ? at the end it was so sad and you know what they say if you ? at a film it must have been good and this definitely was also ? to the two little ? that played the ? of ? and paul they were just brilliant children are often left out of the ? ? i think because the stars that play them all ? up are such a big ? for the whole film but these children are amazing and should be ? for what they have done don't you think the whole story was so ? because it was true and was ? life after all that was ? with us all\""
      ]
     },
     "execution_count": 13,
     "metadata": {},
     "output_type": "execute_result"
    }
   ],
   "source": [
    "# Inspect a sample review and its label \n",
    "sample_review = X_train[0]\n",
    "sample_label = y_train[0]\n",
    "word_index = imdb.get_word_index()\n",
    "reverse_word_index = {val: key for key, val in word_index.items()}\n",
    "# Skips the first 3 reserved words \n",
    "# In IMDB dataset, Keras reserves first 3 indices for special purpose\n",
    "# Look up the word, if not found then use ?\n",
    "decoded_review = ' '.join([reverse_word_index.get(i-3, '?') for i in sample_review])\n",
    "decoded_review  "
   ]
  },
  {
   "cell_type": "code",
   "execution_count": null,
   "id": "0e229679",
   "metadata": {},
   "outputs": [],
   "source": [
    "from tensorflow.keras.preprocessing import sequence \n",
    "max_len = 500 \n",
    "X_train = sequence.pad_sequences(X_train, maxlen=max_len)\n",
    "X_test = sequence.pad_sequences(X_test, maxlen=max_len)\n",
    "X_train"
   ]
  },
  {
   "cell_type": "code",
   "execution_count": 16,
   "id": "d572170b",
   "metadata": {},
   "outputs": [
    {
     "name": "stdout",
     "output_type": "stream",
     "text": [
      "WARNING:tensorflow:From d:\\Code\\Python\\ann-classification\\venv\\Lib\\site-packages\\keras\\src\\backend.py:873: The name tf.get_default_graph is deprecated. Please use tf.compat.v1.get_default_graph instead.\n",
      "\n",
      "Model: \"sequential\"\n",
      "_________________________________________________________________\n",
      " Layer (type)                Output Shape              Param #   \n",
      "=================================================================\n",
      " embedding (Embedding)       (None, 500, 128)          128000    \n",
      "                                                                 \n",
      " simple_rnn (SimpleRNN)      (None, 128)               32896     \n",
      "                                                                 \n",
      " dense (Dense)               (None, 1)                 129       \n",
      "                                                                 \n",
      "=================================================================\n",
      "Total params: 161025 (629.00 KB)\n",
      "Trainable params: 161025 (629.00 KB)\n",
      "Non-trainable params: 0 (0.00 Byte)\n",
      "_________________________________________________________________\n"
     ]
    }
   ],
   "source": [
    "# Train simple RNN \n",
    "model = Sequential() \n",
    "model.add(Embedding(max_features, 128, input_length=max_len))\n",
    "model.add(SimpleRNN(128, activation='relu'))\n",
    "model.add(Dense(1, activation='sigmoid'))\n",
    "model.summary()"
   ]
  },
  {
   "cell_type": "code",
   "execution_count": 18,
   "id": "e20bc6e6",
   "metadata": {},
   "outputs": [
    {
     "name": "stdout",
     "output_type": "stream",
     "text": [
      "WARNING:tensorflow:From d:\\Code\\Python\\ann-classification\\venv\\Lib\\site-packages\\keras\\src\\optimizers\\__init__.py:309: The name tf.train.Optimizer is deprecated. Please use tf.compat.v1.train.Optimizer instead.\n",
      "\n"
     ]
    }
   ],
   "source": [
    "model.compile(optimizer='adam', loss='binary_crossentropy', metrics=['accuracy'])"
   ]
  },
  {
   "cell_type": "code",
   "execution_count": 17,
   "id": "466c7786",
   "metadata": {},
   "outputs": [
    {
     "data": {
      "text/plain": [
       "<keras.src.callbacks.EarlyStopping at 0x19be261c090>"
      ]
     },
     "execution_count": 17,
     "metadata": {},
     "output_type": "execute_result"
    }
   ],
   "source": [
    "# Create an instance of EarlyStopping callback \n",
    "from tensorflow.keras.callbacks import EarlyStopping\n",
    "earlyStopping = EarlyStopping(monitor = 'val_loss', patience = 5, restore_best_weights = True)\n",
    "earlyStopping"
   ]
  },
  {
   "cell_type": "code",
   "execution_count": 19,
   "id": "1fdff668",
   "metadata": {},
   "outputs": [
    {
     "name": "stdout",
     "output_type": "stream",
     "text": [
      "Epoch 1/10\n",
      "WARNING:tensorflow:From d:\\Code\\Python\\ann-classification\\venv\\Lib\\site-packages\\keras\\src\\utils\\tf_utils.py:492: The name tf.ragged.RaggedTensorValue is deprecated. Please use tf.compat.v1.ragged.RaggedTensorValue instead.\n",
      "\n",
      "WARNING:tensorflow:From d:\\Code\\Python\\ann-classification\\venv\\Lib\\site-packages\\keras\\src\\engine\\base_layer_utils.py:384: The name tf.executing_eagerly_outside_functions is deprecated. Please use tf.compat.v1.executing_eagerly_outside_functions instead.\n",
      "\n",
      "625/625 [==============================] - 56s 83ms/step - loss: 6043.4683 - accuracy: 0.5785 - val_loss: 0.6325 - val_accuracy: 0.6086\n",
      "Epoch 2/10\n",
      "625/625 [==============================] - 52s 82ms/step - loss: 0.5933 - accuracy: 0.6808 - val_loss: 0.5319 - val_accuracy: 0.7378\n",
      "Epoch 3/10\n",
      "625/625 [==============================] - 51s 82ms/step - loss: 0.5135 - accuracy: 0.7515 - val_loss: 0.4953 - val_accuracy: 0.7690\n",
      "Epoch 4/10\n",
      "625/625 [==============================] - 49s 79ms/step - loss: 0.7307 - accuracy: 0.6604 - val_loss: 0.6059 - val_accuracy: 0.6598\n",
      "Epoch 5/10\n",
      "625/625 [==============================] - 49s 79ms/step - loss: 0.5621 - accuracy: 0.7048 - val_loss: 0.5444 - val_accuracy: 0.7338\n",
      "Epoch 6/10\n",
      "625/625 [==============================] - 50s 80ms/step - loss: 0.5514 - accuracy: 0.7710 - val_loss: 0.5462 - val_accuracy: 0.7344\n",
      "Epoch 7/10\n",
      "625/625 [==============================] - 49s 79ms/step - loss: 0.4687 - accuracy: 0.7911 - val_loss: 0.4853 - val_accuracy: 0.7756\n",
      "Epoch 8/10\n",
      "625/625 [==============================] - 48s 77ms/step - loss: 0.4458 - accuracy: 0.8049 - val_loss: 0.4712 - val_accuracy: 0.7826\n",
      "Epoch 9/10\n",
      "625/625 [==============================] - 47s 75ms/step - loss: 0.4346 - accuracy: 0.8069 - val_loss: 0.4747 - val_accuracy: 0.7770\n",
      "Epoch 10/10\n",
      "625/625 [==============================] - 46s 74ms/step - loss: 0.4191 - accuracy: 0.8173 - val_loss: 0.4505 - val_accuracy: 0.7966\n"
     ]
    }
   ],
   "source": [
    "# Train the model with Early stopping \n",
    "history = model.fit(\n",
    "    X_train, y_train, epochs = 10, batch_size = 32, \n",
    "    validation_split = 0.2,\n",
    "    callbacks=[earlyStopping]\n",
    ")"
   ]
  },
  {
   "cell_type": "code",
   "execution_count": 20,
   "id": "7d8cecb8",
   "metadata": {},
   "outputs": [
    {
     "name": "stderr",
     "output_type": "stream",
     "text": [
      "d:\\Code\\Python\\ann-classification\\venv\\Lib\\site-packages\\keras\\src\\engine\\training.py:3103: UserWarning: You are saving your model as an HDF5 file via `model.save()`. This file format is considered legacy. We recommend using instead the native Keras format, e.g. `model.save('my_model.keras')`.\n",
      "  saving_api.save_model(\n"
     ]
    }
   ],
   "source": [
    "# Save model file \n",
    "model.save('simple_rnn_imdb.h5')"
   ]
  }
 ],
 "metadata": {
  "kernelspec": {
   "display_name": "Python 3",
   "language": "python",
   "name": "python3"
  },
  "language_info": {
   "codemirror_mode": {
    "name": "ipython",
    "version": 3
   },
   "file_extension": ".py",
   "mimetype": "text/x-python",
   "name": "python",
   "nbconvert_exporter": "python",
   "pygments_lexer": "ipython3",
   "version": "3.11.11"
  }
 },
 "nbformat": 4,
 "nbformat_minor": 5
}
