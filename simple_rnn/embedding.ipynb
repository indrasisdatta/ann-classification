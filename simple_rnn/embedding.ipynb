{
 "cells": [
  {
   "cell_type": "code",
   "execution_count": 6,
   "id": "bddeb6da",
   "metadata": {},
   "outputs": [],
   "source": [
    "from tensorflow.keras.preprocessing.text import one_hot"
   ]
  },
  {
   "cell_type": "code",
   "execution_count": 7,
   "id": "d35f6370",
   "metadata": {},
   "outputs": [],
   "source": [
    "sent = [\n",
    "    'the glass of milk',\n",
    "    'the glass of water',\n",
    "    'the cup of tea',\n",
    "    'I am a good boy',\n",
    "    'I am a good developer',\n",
    "    'understand the meaning of words',\n",
    "    'your videos are good'\n",
    "]"
   ]
  },
  {
   "cell_type": "code",
   "execution_count": 8,
   "id": "dd8e022b",
   "metadata": {},
   "outputs": [],
   "source": [
    "# Define the vocabulary size \n",
    "voc_size = 10000"
   ]
  },
  {
   "cell_type": "code",
   "execution_count": 9,
   "id": "225b8207",
   "metadata": {},
   "outputs": [
    {
     "data": {
      "text/plain": [
       "[[1990, 6922, 3994, 9314],\n",
       " [1990, 6922, 3994, 1671],\n",
       " [1990, 7488, 3994, 8087],\n",
       " [9219, 3992, 8911, 1988, 8995],\n",
       " [9219, 3992, 8911, 1988, 543],\n",
       " [8078, 1990, 4042, 3994, 1823],\n",
       " [6185, 620, 3796, 1988]]"
      ]
     },
     "execution_count": 9,
     "metadata": {},
     "output_type": "execute_result"
    }
   ],
   "source": [
    "# One hot representation\n",
    "one_hot_repr = [one_hot(words, voc_size) for words in sent]\n",
    "one_hot_repr        "
   ]
  },
  {
   "cell_type": "code",
   "execution_count": 10,
   "id": "b91d88dd",
   "metadata": {},
   "outputs": [],
   "source": [
    "from tensorflow.keras.layers import Embedding\n",
    "from tensorflow.keras.utils import pad_sequences\n",
    "from tensorflow.keras.models import Sequential\n",
    "import numpy as np"
   ]
  },
  {
   "cell_type": "code",
   "execution_count": null,
   "id": "cac9c6ef",
   "metadata": {},
   "outputs": [],
   "source": [
    "sent_length = 8\n",
    "embedded_docs = pad_sequences(one_hot_repr, padding = 'pre', maxlen=sent_length)\n",
    "embedded_docs"
   ]
  },
  {
   "cell_type": "code",
   "execution_count": null,
   "id": "70cbc485",
   "metadata": {},
   "outputs": [],
   "source": [
    "dim = 10\n",
    "model = Sequential()\n",
    "model.add(Embedding(voc_size, dim, input_length=sent_length))\n",
    "model.compile('adam', 'mse')\n",
    "model.predict(embedded_docs)"
   ]
  }
 ],
 "metadata": {
  "kernelspec": {
   "display_name": "Python 3",
   "language": "python",
   "name": "python3"
  },
  "language_info": {
   "codemirror_mode": {
    "name": "ipython",
    "version": 3
   },
   "file_extension": ".py",
   "mimetype": "text/x-python",
   "name": "python",
   "nbconvert_exporter": "python",
   "pygments_lexer": "ipython3",
   "version": "3.11.11"
  }
 },
 "nbformat": 4,
 "nbformat_minor": 5
}
